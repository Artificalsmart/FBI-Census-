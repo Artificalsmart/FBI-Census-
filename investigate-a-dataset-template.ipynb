{
 "cells": [
  {
   "cell_type": "markdown",
   "metadata": {},
   "source": [
    "\n",
    "# Project: fbi census data\n",
    "\n",
    "## Table of Contents\n",
    "<ul>\n",
    "<li><a href=\"#intro\">Introduction</a></li>\n",
    "<li><a href=\"#wrangling\">Data Wrangling</a></li>\n",
    "<li><a href=\"#eda\">Exploratory Data Analysis</a></li>\n",
    "<li><a href=\"#conclusions\">Conclusions</a></li>\n",
    "</ul>"
   ]
  },
  {
   "cell_type": "markdown",
   "metadata": {},
   "source": [
    "<a id='intro'></a>\n",
    "## Introduction\n",
    "Dataset: i choose this data because it's more excited and have a lot of work that help me to be good in work in this kind of data the most excited people who buy a lot of gun"
   ]
  },
  {
   "cell_type": "code",
   "execution_count": 1,
   "metadata": {},
   "outputs": [],
   "source": [
    "import pandas as pd \n",
    "import numpy as np \n",
    "import matplotlib.pyplot as plt \n",
    "import seaborn as sns\n",
    "%matplotlib inline\n",
    "df_census=pd.read_csv(r\"F:\\project 2 invistegate fbi\\U.S. Census Data.csv\")\n",
    "df_gun=pd.read_excel(r\"F:\\project 2 invistegate fbi\\gun_data.xlsx\")\n",
    "\n",
    "\n"
   ]
  },
  {
   "cell_type": "code",
   "execution_count": 2,
   "metadata": {},
   "outputs": [
    {
     "data": {
      "text/html": [
       "<div>\n",
       "<style scoped>\n",
       "    .dataframe tbody tr th:only-of-type {\n",
       "        vertical-align: middle;\n",
       "    }\n",
       "\n",
       "    .dataframe tbody tr th {\n",
       "        vertical-align: top;\n",
       "    }\n",
       "\n",
       "    .dataframe thead th {\n",
       "        text-align: right;\n",
       "    }\n",
       "</style>\n",
       "<table border=\"1\" class=\"dataframe\">\n",
       "  <thead>\n",
       "    <tr style=\"text-align: right;\">\n",
       "      <th></th>\n",
       "      <th>Fact</th>\n",
       "      <th>Fact Note</th>\n",
       "      <th>Alabama</th>\n",
       "      <th>Alaska</th>\n",
       "      <th>Arizona</th>\n",
       "      <th>Arkansas</th>\n",
       "      <th>California</th>\n",
       "      <th>Colorado</th>\n",
       "      <th>Connecticut</th>\n",
       "      <th>Delaware</th>\n",
       "      <th>...</th>\n",
       "      <th>South Dakota</th>\n",
       "      <th>Tennessee</th>\n",
       "      <th>Texas</th>\n",
       "      <th>Utah</th>\n",
       "      <th>Vermont</th>\n",
       "      <th>Virginia</th>\n",
       "      <th>Washington</th>\n",
       "      <th>West Virginia</th>\n",
       "      <th>Wisconsin</th>\n",
       "      <th>Wyoming</th>\n",
       "    </tr>\n",
       "  </thead>\n",
       "  <tbody>\n",
       "    <tr>\n",
       "      <th>0</th>\n",
       "      <td>Population estimates, July 1, 2016,  (V2016)</td>\n",
       "      <td>NaN</td>\n",
       "      <td>4,863,300</td>\n",
       "      <td>741,894</td>\n",
       "      <td>6,931,071</td>\n",
       "      <td>2,988,248</td>\n",
       "      <td>39,250,017</td>\n",
       "      <td>5,540,545</td>\n",
       "      <td>3,576,452</td>\n",
       "      <td>952,065</td>\n",
       "      <td>...</td>\n",
       "      <td>865454</td>\n",
       "      <td>6651194</td>\n",
       "      <td>27,862,596</td>\n",
       "      <td>3,051,217</td>\n",
       "      <td>624,594</td>\n",
       "      <td>8,411,808</td>\n",
       "      <td>7,288,000</td>\n",
       "      <td>1,831,102</td>\n",
       "      <td>5,778,708</td>\n",
       "      <td>585,501</td>\n",
       "    </tr>\n",
       "    <tr>\n",
       "      <th>1</th>\n",
       "      <td>Population estimates base, April 1, 2010,  (V2...</td>\n",
       "      <td>NaN</td>\n",
       "      <td>4,780,131</td>\n",
       "      <td>710,249</td>\n",
       "      <td>6,392,301</td>\n",
       "      <td>2,916,025</td>\n",
       "      <td>37,254,522</td>\n",
       "      <td>5,029,324</td>\n",
       "      <td>3,574,114</td>\n",
       "      <td>897,936</td>\n",
       "      <td>...</td>\n",
       "      <td>814195</td>\n",
       "      <td>6346298</td>\n",
       "      <td>25,146,100</td>\n",
       "      <td>2,763,888</td>\n",
       "      <td>625,741</td>\n",
       "      <td>8,001,041</td>\n",
       "      <td>6,724,545</td>\n",
       "      <td>1,853,011</td>\n",
       "      <td>5,687,289</td>\n",
       "      <td>563,767</td>\n",
       "    </tr>\n",
       "    <tr>\n",
       "      <th>2</th>\n",
       "      <td>Population, percent change - April 1, 2010 (es...</td>\n",
       "      <td>NaN</td>\n",
       "      <td>1.70%</td>\n",
       "      <td>4.50%</td>\n",
       "      <td>8.40%</td>\n",
       "      <td>2.50%</td>\n",
       "      <td>5.40%</td>\n",
       "      <td>10.20%</td>\n",
       "      <td>0.10%</td>\n",
       "      <td>6.00%</td>\n",
       "      <td>...</td>\n",
       "      <td>0.063</td>\n",
       "      <td>0.048</td>\n",
       "      <td>10.80%</td>\n",
       "      <td>10.40%</td>\n",
       "      <td>-0.20%</td>\n",
       "      <td>5.10%</td>\n",
       "      <td>8.40%</td>\n",
       "      <td>-1.20%</td>\n",
       "      <td>1.60%</td>\n",
       "      <td>3.90%</td>\n",
       "    </tr>\n",
       "    <tr>\n",
       "      <th>3</th>\n",
       "      <td>Population, Census, April 1, 2010</td>\n",
       "      <td>NaN</td>\n",
       "      <td>4,779,736</td>\n",
       "      <td>710,231</td>\n",
       "      <td>6,392,017</td>\n",
       "      <td>2,915,918</td>\n",
       "      <td>37,253,956</td>\n",
       "      <td>5,029,196</td>\n",
       "      <td>3,574,097</td>\n",
       "      <td>897,934</td>\n",
       "      <td>...</td>\n",
       "      <td>814180</td>\n",
       "      <td>6346105</td>\n",
       "      <td>25,145,561</td>\n",
       "      <td>2,763,885</td>\n",
       "      <td>625,741</td>\n",
       "      <td>8,001,024</td>\n",
       "      <td>6,724,540</td>\n",
       "      <td>1,852,994</td>\n",
       "      <td>5,686,986</td>\n",
       "      <td>563,626</td>\n",
       "    </tr>\n",
       "    <tr>\n",
       "      <th>4</th>\n",
       "      <td>Persons under 5 years, percent, July 1, 2016, ...</td>\n",
       "      <td>NaN</td>\n",
       "      <td>6.00%</td>\n",
       "      <td>7.30%</td>\n",
       "      <td>6.30%</td>\n",
       "      <td>6.40%</td>\n",
       "      <td>6.30%</td>\n",
       "      <td>6.10%</td>\n",
       "      <td>5.20%</td>\n",
       "      <td>5.80%</td>\n",
       "      <td>...</td>\n",
       "      <td>0.071</td>\n",
       "      <td>0.061</td>\n",
       "      <td>7.20%</td>\n",
       "      <td>8.30%</td>\n",
       "      <td>4.90%</td>\n",
       "      <td>6.10%</td>\n",
       "      <td>6.20%</td>\n",
       "      <td>5.50%</td>\n",
       "      <td>5.80%</td>\n",
       "      <td>6.50%</td>\n",
       "    </tr>\n",
       "  </tbody>\n",
       "</table>\n",
       "<p>5 rows × 52 columns</p>\n",
       "</div>"
      ],
      "text/plain": [
       "                                                Fact Fact Note    Alabama  \\\n",
       "0       Population estimates, July 1, 2016,  (V2016)       NaN  4,863,300   \n",
       "1  Population estimates base, April 1, 2010,  (V2...       NaN  4,780,131   \n",
       "2  Population, percent change - April 1, 2010 (es...       NaN      1.70%   \n",
       "3                  Population, Census, April 1, 2010       NaN  4,779,736   \n",
       "4  Persons under 5 years, percent, July 1, 2016, ...       NaN      6.00%   \n",
       "\n",
       "    Alaska    Arizona   Arkansas  California   Colorado Connecticut Delaware  \\\n",
       "0  741,894  6,931,071  2,988,248  39,250,017  5,540,545   3,576,452  952,065   \n",
       "1  710,249  6,392,301  2,916,025  37,254,522  5,029,324   3,574,114  897,936   \n",
       "2    4.50%      8.40%      2.50%       5.40%     10.20%       0.10%    6.00%   \n",
       "3  710,231  6,392,017  2,915,918  37,253,956  5,029,196   3,574,097  897,934   \n",
       "4    7.30%      6.30%      6.40%       6.30%      6.10%       5.20%    5.80%   \n",
       "\n",
       "   ... South Dakota Tennessee       Texas       Utah  Vermont   Virginia  \\\n",
       "0  ...       865454   6651194  27,862,596  3,051,217  624,594  8,411,808   \n",
       "1  ...       814195   6346298  25,146,100  2,763,888  625,741  8,001,041   \n",
       "2  ...        0.063     0.048      10.80%     10.40%   -0.20%      5.10%   \n",
       "3  ...       814180   6346105  25,145,561  2,763,885  625,741  8,001,024   \n",
       "4  ...        0.071     0.061       7.20%      8.30%    4.90%      6.10%   \n",
       "\n",
       "  Washington West Virginia  Wisconsin  Wyoming  \n",
       "0  7,288,000     1,831,102  5,778,708  585,501  \n",
       "1  6,724,545     1,853,011  5,687,289  563,767  \n",
       "2      8.40%        -1.20%      1.60%    3.90%  \n",
       "3  6,724,540     1,852,994  5,686,986  563,626  \n",
       "4      6.20%         5.50%      5.80%    6.50%  \n",
       "\n",
       "[5 rows x 52 columns]"
      ]
     },
     "execution_count": 2,
     "metadata": {},
     "output_type": "execute_result"
    }
   ],
   "source": [
    "#show the first five row in census\n",
    "df_census.head()"
   ]
  },
  {
   "cell_type": "code",
   "execution_count": 3,
   "metadata": {},
   "outputs": [
    {
     "data": {
      "text/html": [
       "<div>\n",
       "<style scoped>\n",
       "    .dataframe tbody tr th:only-of-type {\n",
       "        vertical-align: middle;\n",
       "    }\n",
       "\n",
       "    .dataframe tbody tr th {\n",
       "        vertical-align: top;\n",
       "    }\n",
       "\n",
       "    .dataframe thead th {\n",
       "        text-align: right;\n",
       "    }\n",
       "</style>\n",
       "<table border=\"1\" class=\"dataframe\">\n",
       "  <thead>\n",
       "    <tr style=\"text-align: right;\">\n",
       "      <th></th>\n",
       "      <th>month</th>\n",
       "      <th>state</th>\n",
       "      <th>permit</th>\n",
       "      <th>permit_recheck</th>\n",
       "      <th>handgun</th>\n",
       "      <th>long_gun</th>\n",
       "      <th>other</th>\n",
       "      <th>multiple</th>\n",
       "      <th>admin</th>\n",
       "      <th>prepawn_handgun</th>\n",
       "      <th>...</th>\n",
       "      <th>returned_other</th>\n",
       "      <th>rentals_handgun</th>\n",
       "      <th>rentals_long_gun</th>\n",
       "      <th>private_sale_handgun</th>\n",
       "      <th>private_sale_long_gun</th>\n",
       "      <th>private_sale_other</th>\n",
       "      <th>return_to_seller_handgun</th>\n",
       "      <th>return_to_seller_long_gun</th>\n",
       "      <th>return_to_seller_other</th>\n",
       "      <th>totals</th>\n",
       "    </tr>\n",
       "  </thead>\n",
       "  <tbody>\n",
       "    <tr>\n",
       "      <th>0</th>\n",
       "      <td>2017-09</td>\n",
       "      <td>Alabama</td>\n",
       "      <td>16717.0</td>\n",
       "      <td>0.0</td>\n",
       "      <td>5734.0</td>\n",
       "      <td>6320.0</td>\n",
       "      <td>221.0</td>\n",
       "      <td>317</td>\n",
       "      <td>0.0</td>\n",
       "      <td>15.0</td>\n",
       "      <td>...</td>\n",
       "      <td>0.0</td>\n",
       "      <td>0.0</td>\n",
       "      <td>0.0</td>\n",
       "      <td>9.0</td>\n",
       "      <td>16.0</td>\n",
       "      <td>3.0</td>\n",
       "      <td>0.0</td>\n",
       "      <td>0.0</td>\n",
       "      <td>3.0</td>\n",
       "      <td>32019</td>\n",
       "    </tr>\n",
       "    <tr>\n",
       "      <th>1</th>\n",
       "      <td>2017-09</td>\n",
       "      <td>Alaska</td>\n",
       "      <td>209.0</td>\n",
       "      <td>2.0</td>\n",
       "      <td>2320.0</td>\n",
       "      <td>2930.0</td>\n",
       "      <td>219.0</td>\n",
       "      <td>160</td>\n",
       "      <td>0.0</td>\n",
       "      <td>5.0</td>\n",
       "      <td>...</td>\n",
       "      <td>0.0</td>\n",
       "      <td>0.0</td>\n",
       "      <td>0.0</td>\n",
       "      <td>17.0</td>\n",
       "      <td>24.0</td>\n",
       "      <td>1.0</td>\n",
       "      <td>0.0</td>\n",
       "      <td>0.0</td>\n",
       "      <td>0.0</td>\n",
       "      <td>6303</td>\n",
       "    </tr>\n",
       "    <tr>\n",
       "      <th>2</th>\n",
       "      <td>2017-09</td>\n",
       "      <td>Arizona</td>\n",
       "      <td>5069.0</td>\n",
       "      <td>382.0</td>\n",
       "      <td>11063.0</td>\n",
       "      <td>7946.0</td>\n",
       "      <td>920.0</td>\n",
       "      <td>631</td>\n",
       "      <td>0.0</td>\n",
       "      <td>13.0</td>\n",
       "      <td>...</td>\n",
       "      <td>0.0</td>\n",
       "      <td>0.0</td>\n",
       "      <td>0.0</td>\n",
       "      <td>38.0</td>\n",
       "      <td>12.0</td>\n",
       "      <td>2.0</td>\n",
       "      <td>0.0</td>\n",
       "      <td>0.0</td>\n",
       "      <td>0.0</td>\n",
       "      <td>28394</td>\n",
       "    </tr>\n",
       "    <tr>\n",
       "      <th>3</th>\n",
       "      <td>2017-09</td>\n",
       "      <td>Arkansas</td>\n",
       "      <td>2935.0</td>\n",
       "      <td>632.0</td>\n",
       "      <td>4347.0</td>\n",
       "      <td>6063.0</td>\n",
       "      <td>165.0</td>\n",
       "      <td>366</td>\n",
       "      <td>51.0</td>\n",
       "      <td>12.0</td>\n",
       "      <td>...</td>\n",
       "      <td>0.0</td>\n",
       "      <td>0.0</td>\n",
       "      <td>0.0</td>\n",
       "      <td>13.0</td>\n",
       "      <td>23.0</td>\n",
       "      <td>0.0</td>\n",
       "      <td>0.0</td>\n",
       "      <td>2.0</td>\n",
       "      <td>1.0</td>\n",
       "      <td>17747</td>\n",
       "    </tr>\n",
       "    <tr>\n",
       "      <th>4</th>\n",
       "      <td>2017-09</td>\n",
       "      <td>California</td>\n",
       "      <td>57839.0</td>\n",
       "      <td>0.0</td>\n",
       "      <td>37165.0</td>\n",
       "      <td>24581.0</td>\n",
       "      <td>2984.0</td>\n",
       "      <td>0</td>\n",
       "      <td>0.0</td>\n",
       "      <td>0.0</td>\n",
       "      <td>...</td>\n",
       "      <td>0.0</td>\n",
       "      <td>0.0</td>\n",
       "      <td>0.0</td>\n",
       "      <td>0.0</td>\n",
       "      <td>0.0</td>\n",
       "      <td>0.0</td>\n",
       "      <td>0.0</td>\n",
       "      <td>0.0</td>\n",
       "      <td>0.0</td>\n",
       "      <td>123506</td>\n",
       "    </tr>\n",
       "  </tbody>\n",
       "</table>\n",
       "<p>5 rows × 27 columns</p>\n",
       "</div>"
      ],
      "text/plain": [
       "     month       state   permit  permit_recheck  handgun  long_gun   other  \\\n",
       "0  2017-09     Alabama  16717.0             0.0   5734.0    6320.0   221.0   \n",
       "1  2017-09      Alaska    209.0             2.0   2320.0    2930.0   219.0   \n",
       "2  2017-09     Arizona   5069.0           382.0  11063.0    7946.0   920.0   \n",
       "3  2017-09    Arkansas   2935.0           632.0   4347.0    6063.0   165.0   \n",
       "4  2017-09  California  57839.0             0.0  37165.0   24581.0  2984.0   \n",
       "\n",
       "   multiple  admin  prepawn_handgun  ...  returned_other  rentals_handgun  \\\n",
       "0       317    0.0             15.0  ...             0.0              0.0   \n",
       "1       160    0.0              5.0  ...             0.0              0.0   \n",
       "2       631    0.0             13.0  ...             0.0              0.0   \n",
       "3       366   51.0             12.0  ...             0.0              0.0   \n",
       "4         0    0.0              0.0  ...             0.0              0.0   \n",
       "\n",
       "   rentals_long_gun  private_sale_handgun  private_sale_long_gun  \\\n",
       "0               0.0                   9.0                   16.0   \n",
       "1               0.0                  17.0                   24.0   \n",
       "2               0.0                  38.0                   12.0   \n",
       "3               0.0                  13.0                   23.0   \n",
       "4               0.0                   0.0                    0.0   \n",
       "\n",
       "   private_sale_other  return_to_seller_handgun  return_to_seller_long_gun  \\\n",
       "0                 3.0                       0.0                        0.0   \n",
       "1                 1.0                       0.0                        0.0   \n",
       "2                 2.0                       0.0                        0.0   \n",
       "3                 0.0                       0.0                        2.0   \n",
       "4                 0.0                       0.0                        0.0   \n",
       "\n",
       "   return_to_seller_other  totals  \n",
       "0                     3.0   32019  \n",
       "1                     0.0    6303  \n",
       "2                     0.0   28394  \n",
       "3                     1.0   17747  \n",
       "4                     0.0  123506  \n",
       "\n",
       "[5 rows x 27 columns]"
      ]
     },
     "execution_count": 3,
     "metadata": {},
     "output_type": "execute_result"
    }
   ],
   "source": [
    "#show the first five row in gun\n",
    "df_gun.head()"
   ]
  },
  {
   "cell_type": "markdown",
   "metadata": {},
   "source": [
    "<a id='wrangling'></a>\n",
    "## Data Wrangling\n",
    "\n",
    "> **Tip**: In this section of the report, you will load in the data, check for cleanliness, and then trim and clean your dataset for analysis. Make sure that you document your steps carefully and justify your cleaning decisions.\n",
    "\n",
    "### General Properties"
   ]
  },
  {
   "cell_type": "code",
   "execution_count": 4,
   "metadata": {},
   "outputs": [],
   "source": [
    "#to fill all the missing value in place by mean \n",
    "df_census.fillna(df_census.mean() , inplace=True)"
   ]
  },
  {
   "cell_type": "code",
   "execution_count": 5,
   "metadata": {},
   "outputs": [],
   "source": [
    "#name all the columns in the data frame census \n",
    "df_census.rename(columns=lambda x:x.strip().lower().replace(\" \", \"_\") ,  inplace = True)"
   ]
  },
  {
   "cell_type": "code",
   "execution_count": 6,
   "metadata": {},
   "outputs": [],
   "source": [
    "#drop or delete a column fact note \n",
    "df_census.drop(\"fact_note\" , axis=1 , inplace=True)"
   ]
  },
  {
   "cell_type": "code",
   "execution_count": 7,
   "metadata": {},
   "outputs": [
    {
     "data": {
      "text/html": [
       "<div>\n",
       "<style scoped>\n",
       "    .dataframe tbody tr th:only-of-type {\n",
       "        vertical-align: middle;\n",
       "    }\n",
       "\n",
       "    .dataframe tbody tr th {\n",
       "        vertical-align: top;\n",
       "    }\n",
       "\n",
       "    .dataframe thead th {\n",
       "        text-align: right;\n",
       "    }\n",
       "</style>\n",
       "<table border=\"1\" class=\"dataframe\">\n",
       "  <thead>\n",
       "    <tr style=\"text-align: right;\">\n",
       "      <th></th>\n",
       "      <th>fact</th>\n",
       "      <th>alabama</th>\n",
       "      <th>alaska</th>\n",
       "      <th>arizona</th>\n",
       "      <th>arkansas</th>\n",
       "      <th>california</th>\n",
       "      <th>colorado</th>\n",
       "      <th>connecticut</th>\n",
       "      <th>delaware</th>\n",
       "      <th>florida</th>\n",
       "      <th>...</th>\n",
       "      <th>south_dakota</th>\n",
       "      <th>tennessee</th>\n",
       "      <th>texas</th>\n",
       "      <th>utah</th>\n",
       "      <th>vermont</th>\n",
       "      <th>virginia</th>\n",
       "      <th>washington</th>\n",
       "      <th>west_virginia</th>\n",
       "      <th>wisconsin</th>\n",
       "      <th>wyoming</th>\n",
       "    </tr>\n",
       "  </thead>\n",
       "  <tbody>\n",
       "    <tr>\n",
       "      <th>80</th>\n",
       "      <td>FN</td>\n",
       "      <td>NaN</td>\n",
       "      <td>NaN</td>\n",
       "      <td>NaN</td>\n",
       "      <td>NaN</td>\n",
       "      <td>NaN</td>\n",
       "      <td>NaN</td>\n",
       "      <td>NaN</td>\n",
       "      <td>NaN</td>\n",
       "      <td>NaN</td>\n",
       "      <td>...</td>\n",
       "      <td>NaN</td>\n",
       "      <td>NaN</td>\n",
       "      <td>NaN</td>\n",
       "      <td>NaN</td>\n",
       "      <td>NaN</td>\n",
       "      <td>NaN</td>\n",
       "      <td>NaN</td>\n",
       "      <td>NaN</td>\n",
       "      <td>NaN</td>\n",
       "      <td>NaN</td>\n",
       "    </tr>\n",
       "    <tr>\n",
       "      <th>81</th>\n",
       "      <td>NaN</td>\n",
       "      <td>NaN</td>\n",
       "      <td>NaN</td>\n",
       "      <td>NaN</td>\n",
       "      <td>NaN</td>\n",
       "      <td>NaN</td>\n",
       "      <td>NaN</td>\n",
       "      <td>NaN</td>\n",
       "      <td>NaN</td>\n",
       "      <td>NaN</td>\n",
       "      <td>...</td>\n",
       "      <td>NaN</td>\n",
       "      <td>NaN</td>\n",
       "      <td>NaN</td>\n",
       "      <td>NaN</td>\n",
       "      <td>NaN</td>\n",
       "      <td>NaN</td>\n",
       "      <td>NaN</td>\n",
       "      <td>NaN</td>\n",
       "      <td>NaN</td>\n",
       "      <td>NaN</td>\n",
       "    </tr>\n",
       "    <tr>\n",
       "      <th>82</th>\n",
       "      <td>S</td>\n",
       "      <td>NaN</td>\n",
       "      <td>NaN</td>\n",
       "      <td>NaN</td>\n",
       "      <td>NaN</td>\n",
       "      <td>NaN</td>\n",
       "      <td>NaN</td>\n",
       "      <td>NaN</td>\n",
       "      <td>NaN</td>\n",
       "      <td>NaN</td>\n",
       "      <td>...</td>\n",
       "      <td>NaN</td>\n",
       "      <td>NaN</td>\n",
       "      <td>NaN</td>\n",
       "      <td>NaN</td>\n",
       "      <td>NaN</td>\n",
       "      <td>NaN</td>\n",
       "      <td>NaN</td>\n",
       "      <td>NaN</td>\n",
       "      <td>NaN</td>\n",
       "      <td>NaN</td>\n",
       "    </tr>\n",
       "    <tr>\n",
       "      <th>83</th>\n",
       "      <td>X</td>\n",
       "      <td>NaN</td>\n",
       "      <td>NaN</td>\n",
       "      <td>NaN</td>\n",
       "      <td>NaN</td>\n",
       "      <td>NaN</td>\n",
       "      <td>NaN</td>\n",
       "      <td>NaN</td>\n",
       "      <td>NaN</td>\n",
       "      <td>NaN</td>\n",
       "      <td>...</td>\n",
       "      <td>NaN</td>\n",
       "      <td>NaN</td>\n",
       "      <td>NaN</td>\n",
       "      <td>NaN</td>\n",
       "      <td>NaN</td>\n",
       "      <td>NaN</td>\n",
       "      <td>NaN</td>\n",
       "      <td>NaN</td>\n",
       "      <td>NaN</td>\n",
       "      <td>NaN</td>\n",
       "    </tr>\n",
       "    <tr>\n",
       "      <th>84</th>\n",
       "      <td>Z</td>\n",
       "      <td>NaN</td>\n",
       "      <td>NaN</td>\n",
       "      <td>NaN</td>\n",
       "      <td>NaN</td>\n",
       "      <td>NaN</td>\n",
       "      <td>NaN</td>\n",
       "      <td>NaN</td>\n",
       "      <td>NaN</td>\n",
       "      <td>NaN</td>\n",
       "      <td>...</td>\n",
       "      <td>NaN</td>\n",
       "      <td>NaN</td>\n",
       "      <td>NaN</td>\n",
       "      <td>NaN</td>\n",
       "      <td>NaN</td>\n",
       "      <td>NaN</td>\n",
       "      <td>NaN</td>\n",
       "      <td>NaN</td>\n",
       "      <td>NaN</td>\n",
       "      <td>NaN</td>\n",
       "    </tr>\n",
       "  </tbody>\n",
       "</table>\n",
       "<p>5 rows × 51 columns</p>\n",
       "</div>"
      ],
      "text/plain": [
       "   fact alabama alaska arizona arkansas california colorado connecticut  \\\n",
       "80   FN     NaN    NaN     NaN      NaN        NaN      NaN         NaN   \n",
       "81  NaN     NaN    NaN     NaN      NaN        NaN      NaN         NaN   \n",
       "82    S     NaN    NaN     NaN      NaN        NaN      NaN         NaN   \n",
       "83    X     NaN    NaN     NaN      NaN        NaN      NaN         NaN   \n",
       "84    Z     NaN    NaN     NaN      NaN        NaN      NaN         NaN   \n",
       "\n",
       "   delaware florida  ... south_dakota tennessee texas utah vermont virginia  \\\n",
       "80      NaN     NaN  ...          NaN       NaN   NaN  NaN     NaN      NaN   \n",
       "81      NaN     NaN  ...          NaN       NaN   NaN  NaN     NaN      NaN   \n",
       "82      NaN     NaN  ...          NaN       NaN   NaN  NaN     NaN      NaN   \n",
       "83      NaN     NaN  ...          NaN       NaN   NaN  NaN     NaN      NaN   \n",
       "84      NaN     NaN  ...          NaN       NaN   NaN  NaN     NaN      NaN   \n",
       "\n",
       "   washington west_virginia wisconsin wyoming  \n",
       "80        NaN           NaN       NaN     NaN  \n",
       "81        NaN           NaN       NaN     NaN  \n",
       "82        NaN           NaN       NaN     NaN  \n",
       "83        NaN           NaN       NaN     NaN  \n",
       "84        NaN           NaN       NaN     NaN  \n",
       "\n",
       "[5 rows x 51 columns]"
      ]
     },
     "execution_count": 7,
     "metadata": {},
     "output_type": "execute_result"
    }
   ],
   "source": [
    "#show the data of census the last rows\n",
    "df_census.tail()"
   ]
  },
  {
   "cell_type": "code",
   "execution_count": 8,
   "metadata": {},
   "outputs": [],
   "source": [
    "#drop or delete rows from inddex 65 until 85 in census city \n",
    "df_census.drop(df_census.index[65:85], inplace=True )"
   ]
  },
  {
   "cell_type": "code",
   "execution_count": 9,
   "metadata": {},
   "outputs": [
    {
     "data": {
      "text/plain": [
       "0"
      ]
     },
     "execution_count": 9,
     "metadata": {},
     "output_type": "execute_result"
    }
   ],
   "source": [
    "#sum of duplicated rows in data census\n",
    "sum(df_census.duplicated())"
   ]
  },
  {
   "cell_type": "code",
   "execution_count": 10,
   "metadata": {},
   "outputs": [
    {
     "data": {
      "text/plain": [
       "0"
      ]
     },
     "execution_count": 10,
     "metadata": {},
     "output_type": "execute_result"
    }
   ],
   "source": [
    "#to check number of nan values in data census\n",
    "df_census.isnull().any().sum().sum()"
   ]
  },
  {
   "cell_type": "code",
   "execution_count": 11,
   "metadata": {},
   "outputs": [
    {
     "data": {
      "text/plain": [
       "Index(['fact', 'alabama', 'alaska', 'arizona', 'arkansas', 'california',\n",
       "       'colorado', 'connecticut', 'delaware', 'florida', 'georgia', 'hawaii',\n",
       "       'idaho', 'illinois', 'indiana', 'iowa', 'kansas', 'kentucky',\n",
       "       'louisiana', 'maine', 'maryland', 'massachusetts', 'michigan',\n",
       "       'minnesota', 'mississippi', 'missouri', 'montana', 'nebraska', 'nevada',\n",
       "       'new_hampshire', 'new_jersey', 'new_mexico', 'new_york',\n",
       "       'north_carolina', 'north_dakota', 'ohio', 'oklahoma', 'oregon',\n",
       "       'pennsylvania', 'rhode_island', 'south_carolina', 'south_dakota',\n",
       "       'tennessee', 'texas', 'utah', 'vermont', 'virginia', 'washington',\n",
       "       'west_virginia', 'wisconsin', 'wyoming'],\n",
       "      dtype='object')"
      ]
     },
     "execution_count": 11,
     "metadata": {},
     "output_type": "execute_result"
    }
   ],
   "source": [
    "#show me the of coulmns in cesus city\n",
    "df_census.columns"
   ]
  },
  {
   "cell_type": "code",
   "execution_count": 12,
   "metadata": {},
   "outputs": [],
   "source": [
    "#drop rows from census city\n",
    "df_census.drop(df_census.index[4:] ,inplace=True)"
   ]
  },
  {
   "cell_type": "code",
   "execution_count": 13,
   "metadata": {},
   "outputs": [],
   "source": [
    "#drop rows from census city \n",
    "df_census.drop(df_census.index[2:3] , inplace = True)"
   ]
  },
  {
   "cell_type": "code",
   "execution_count": 14,
   "metadata": {},
   "outputs": [
    {
     "data": {
      "text/html": [
       "<div>\n",
       "<style scoped>\n",
       "    .dataframe tbody tr th:only-of-type {\n",
       "        vertical-align: middle;\n",
       "    }\n",
       "\n",
       "    .dataframe tbody tr th {\n",
       "        vertical-align: top;\n",
       "    }\n",
       "\n",
       "    .dataframe thead th {\n",
       "        text-align: right;\n",
       "    }\n",
       "</style>\n",
       "<table border=\"1\" class=\"dataframe\">\n",
       "  <thead>\n",
       "    <tr style=\"text-align: right;\">\n",
       "      <th></th>\n",
       "      <th>fact</th>\n",
       "      <th>alabama</th>\n",
       "      <th>alaska</th>\n",
       "      <th>arizona</th>\n",
       "      <th>arkansas</th>\n",
       "      <th>california</th>\n",
       "      <th>colorado</th>\n",
       "      <th>connecticut</th>\n",
       "      <th>delaware</th>\n",
       "      <th>florida</th>\n",
       "      <th>...</th>\n",
       "      <th>south_dakota</th>\n",
       "      <th>tennessee</th>\n",
       "      <th>texas</th>\n",
       "      <th>utah</th>\n",
       "      <th>vermont</th>\n",
       "      <th>virginia</th>\n",
       "      <th>washington</th>\n",
       "      <th>west_virginia</th>\n",
       "      <th>wisconsin</th>\n",
       "      <th>wyoming</th>\n",
       "    </tr>\n",
       "  </thead>\n",
       "  <tbody>\n",
       "    <tr>\n",
       "      <th>0</th>\n",
       "      <td>Population estimates, July 1, 2016,  (V2016)</td>\n",
       "      <td>4,863,300</td>\n",
       "      <td>741,894</td>\n",
       "      <td>6,931,071</td>\n",
       "      <td>2,988,248</td>\n",
       "      <td>39,250,017</td>\n",
       "      <td>5,540,545</td>\n",
       "      <td>3,576,452</td>\n",
       "      <td>952,065</td>\n",
       "      <td>20,612,439</td>\n",
       "      <td>...</td>\n",
       "      <td>865454</td>\n",
       "      <td>6651194</td>\n",
       "      <td>27,862,596</td>\n",
       "      <td>3,051,217</td>\n",
       "      <td>624,594</td>\n",
       "      <td>8,411,808</td>\n",
       "      <td>7,288,000</td>\n",
       "      <td>1,831,102</td>\n",
       "      <td>5,778,708</td>\n",
       "      <td>585,501</td>\n",
       "    </tr>\n",
       "    <tr>\n",
       "      <th>1</th>\n",
       "      <td>Population estimates base, April 1, 2010,  (V2...</td>\n",
       "      <td>4,780,131</td>\n",
       "      <td>710,249</td>\n",
       "      <td>6,392,301</td>\n",
       "      <td>2,916,025</td>\n",
       "      <td>37,254,522</td>\n",
       "      <td>5,029,324</td>\n",
       "      <td>3,574,114</td>\n",
       "      <td>897,936</td>\n",
       "      <td>18,804,592</td>\n",
       "      <td>...</td>\n",
       "      <td>814195</td>\n",
       "      <td>6346298</td>\n",
       "      <td>25,146,100</td>\n",
       "      <td>2,763,888</td>\n",
       "      <td>625,741</td>\n",
       "      <td>8,001,041</td>\n",
       "      <td>6,724,545</td>\n",
       "      <td>1,853,011</td>\n",
       "      <td>5,687,289</td>\n",
       "      <td>563,767</td>\n",
       "    </tr>\n",
       "    <tr>\n",
       "      <th>3</th>\n",
       "      <td>Population, Census, April 1, 2010</td>\n",
       "      <td>4,779,736</td>\n",
       "      <td>710,231</td>\n",
       "      <td>6,392,017</td>\n",
       "      <td>2,915,918</td>\n",
       "      <td>37,253,956</td>\n",
       "      <td>5,029,196</td>\n",
       "      <td>3,574,097</td>\n",
       "      <td>897,934</td>\n",
       "      <td>18,801,310</td>\n",
       "      <td>...</td>\n",
       "      <td>814180</td>\n",
       "      <td>6346105</td>\n",
       "      <td>25,145,561</td>\n",
       "      <td>2,763,885</td>\n",
       "      <td>625,741</td>\n",
       "      <td>8,001,024</td>\n",
       "      <td>6,724,540</td>\n",
       "      <td>1,852,994</td>\n",
       "      <td>5,686,986</td>\n",
       "      <td>563,626</td>\n",
       "    </tr>\n",
       "  </tbody>\n",
       "</table>\n",
       "<p>3 rows × 51 columns</p>\n",
       "</div>"
      ],
      "text/plain": [
       "                                                fact    alabama   alaska  \\\n",
       "0       Population estimates, July 1, 2016,  (V2016)  4,863,300  741,894   \n",
       "1  Population estimates base, April 1, 2010,  (V2...  4,780,131  710,249   \n",
       "3                  Population, Census, April 1, 2010  4,779,736  710,231   \n",
       "\n",
       "     arizona   arkansas  california   colorado connecticut delaware  \\\n",
       "0  6,931,071  2,988,248  39,250,017  5,540,545   3,576,452  952,065   \n",
       "1  6,392,301  2,916,025  37,254,522  5,029,324   3,574,114  897,936   \n",
       "3  6,392,017  2,915,918  37,253,956  5,029,196   3,574,097  897,934   \n",
       "\n",
       "      florida  ... south_dakota tennessee       texas       utah  vermont  \\\n",
       "0  20,612,439  ...       865454   6651194  27,862,596  3,051,217  624,594   \n",
       "1  18,804,592  ...       814195   6346298  25,146,100  2,763,888  625,741   \n",
       "3  18,801,310  ...       814180   6346105  25,145,561  2,763,885  625,741   \n",
       "\n",
       "    virginia washington west_virginia  wisconsin  wyoming  \n",
       "0  8,411,808  7,288,000     1,831,102  5,778,708  585,501  \n",
       "1  8,001,041  6,724,545     1,853,011  5,687,289  563,767  \n",
       "3  8,001,024  6,724,540     1,852,994  5,686,986  563,626  \n",
       "\n",
       "[3 rows x 51 columns]"
      ]
     },
     "execution_count": 14,
     "metadata": {},
     "output_type": "execute_result"
    }
   ],
   "source": [
    "#show me the first 5 rows in census \n",
    "df_census.head()"
   ]
  },
  {
   "cell_type": "code",
   "execution_count": 15,
   "metadata": {},
   "outputs": [
    {
     "data": {
      "text/plain": [
       "0"
      ]
     },
     "execution_count": 15,
     "metadata": {},
     "output_type": "execute_result"
    }
   ],
   "source": [
    "#check duplicated rows in census\n",
    "sum(df_census.duplicated())"
   ]
  },
  {
   "cell_type": "code",
   "execution_count": 16,
   "metadata": {},
   "outputs": [],
   "source": [
    "#drop duplicated if any in census\n",
    "df_census.drop_duplicates(inplace=True)"
   ]
  },
  {
   "cell_type": "code",
   "execution_count": 17,
   "metadata": {},
   "outputs": [
    {
     "data": {
      "text/plain": [
       "0"
      ]
     },
     "execution_count": 17,
     "metadata": {},
     "output_type": "execute_result"
    }
   ],
   "source": [
    "#check again the duplicated to know if droped or not\n",
    "sum(df_census.duplicated())"
   ]
  },
  {
   "cell_type": "code",
   "execution_count": 18,
   "metadata": {},
   "outputs": [
    {
     "data": {
      "text/plain": [
       "(3, 51)"
      ]
     },
     "execution_count": 18,
     "metadata": {},
     "output_type": "execute_result"
    }
   ],
   "source": [
    "#get the shape of census city\n",
    "df_census.describe()\n",
    "df_census.shape"
   ]
  },
  {
   "cell_type": "code",
   "execution_count": 28,
   "metadata": {},
   "outputs": [],
   "source": [
    "#delet from column string words \n",
    "df_census['fact']=df_census[\"fact\"].map(lambda x:x.lstrip(\"Population estimates\").rstrip(\"(V2016)\"))"
   ]
  },
  {
   "cell_type": "code",
   "execution_count": 29,
   "metadata": {},
   "outputs": [],
   "source": [
    "#next step to complete the first stip\n",
    "df_census['fact']=df_census[\"fact\"].map(lambda x:x.lstrip(\"July 1\"))"
   ]
  },
  {
   "cell_type": "code",
   "execution_count": 30,
   "metadata": {},
   "outputs": [],
   "source": [
    "#the third and the last one to delete string values\n",
    "df_census['fact']=df_census[\"fact\"].map(lambda x:x.lstrip(\"base April 1\"))"
   ]
  },
  {
   "cell_type": "code",
   "execution_count": 31,
   "metadata": {},
   "outputs": [],
   "source": [
    "#remove (,)from all the data frame and replace it by ()\n",
    "df_census.replace(\",\",\"\" , regex=True , inplace=True)"
   ]
  },
  {
   "cell_type": "code",
   "execution_count": null,
   "metadata": {},
   "outputs": [],
   "source": [
    "#thats to delete row number has been in data after it modified\n",
    "df_census.drop(df_census.index[2] , inplace=True)"
   ]
  },
  {
   "cell_type": "code",
   "execution_count": 32,
   "metadata": {},
   "outputs": [
    {
     "data": {
      "text/html": [
       "<div>\n",
       "<style scoped>\n",
       "    .dataframe tbody tr th:only-of-type {\n",
       "        vertical-align: middle;\n",
       "    }\n",
       "\n",
       "    .dataframe tbody tr th {\n",
       "        vertical-align: top;\n",
       "    }\n",
       "\n",
       "    .dataframe thead th {\n",
       "        text-align: right;\n",
       "    }\n",
       "</style>\n",
       "<table border=\"1\" class=\"dataframe\">\n",
       "  <thead>\n",
       "    <tr style=\"text-align: right;\">\n",
       "      <th></th>\n",
       "      <th>fact</th>\n",
       "      <th>alabama</th>\n",
       "      <th>alaska</th>\n",
       "      <th>arizona</th>\n",
       "      <th>arkansas</th>\n",
       "      <th>california</th>\n",
       "      <th>colorado</th>\n",
       "      <th>connecticut</th>\n",
       "      <th>delaware</th>\n",
       "      <th>florida</th>\n",
       "      <th>...</th>\n",
       "      <th>south_dakota</th>\n",
       "      <th>tennessee</th>\n",
       "      <th>texas</th>\n",
       "      <th>utah</th>\n",
       "      <th>vermont</th>\n",
       "      <th>virginia</th>\n",
       "      <th>washington</th>\n",
       "      <th>west_virginia</th>\n",
       "      <th>wisconsin</th>\n",
       "      <th>wyoming</th>\n",
       "    </tr>\n",
       "  </thead>\n",
       "  <tbody>\n",
       "    <tr>\n",
       "      <th>0</th>\n",
       "      <td>2016</td>\n",
       "      <td>4863300</td>\n",
       "      <td>741894</td>\n",
       "      <td>6931071</td>\n",
       "      <td>2988248</td>\n",
       "      <td>39250017</td>\n",
       "      <td>5540545</td>\n",
       "      <td>3576452</td>\n",
       "      <td>952065</td>\n",
       "      <td>20612439</td>\n",
       "      <td>...</td>\n",
       "      <td>865454</td>\n",
       "      <td>6651194</td>\n",
       "      <td>27862596</td>\n",
       "      <td>3051217</td>\n",
       "      <td>624594</td>\n",
       "      <td>8411808</td>\n",
       "      <td>7288000</td>\n",
       "      <td>1831102</td>\n",
       "      <td>5778708</td>\n",
       "      <td>585501</td>\n",
       "    </tr>\n",
       "    <tr>\n",
       "      <th>1</th>\n",
       "      <td>2010</td>\n",
       "      <td>4780131</td>\n",
       "      <td>710249</td>\n",
       "      <td>6392301</td>\n",
       "      <td>2916025</td>\n",
       "      <td>37254522</td>\n",
       "      <td>5029324</td>\n",
       "      <td>3574114</td>\n",
       "      <td>897936</td>\n",
       "      <td>18804592</td>\n",
       "      <td>...</td>\n",
       "      <td>814195</td>\n",
       "      <td>6346298</td>\n",
       "      <td>25146100</td>\n",
       "      <td>2763888</td>\n",
       "      <td>625741</td>\n",
       "      <td>8001041</td>\n",
       "      <td>6724545</td>\n",
       "      <td>1853011</td>\n",
       "      <td>5687289</td>\n",
       "      <td>563767</td>\n",
       "    </tr>\n",
       "  </tbody>\n",
       "</table>\n",
       "<p>2 rows × 51 columns</p>\n",
       "</div>"
      ],
      "text/plain": [
       "     fact  alabama  alaska  arizona arkansas california colorado connecticut  \\\n",
       "0  2016    4863300  741894  6931071  2988248   39250017  5540545     3576452   \n",
       "1  2010    4780131  710249  6392301  2916025   37254522  5029324     3574114   \n",
       "\n",
       "  delaware   florida  ... south_dakota tennessee     texas     utah vermont  \\\n",
       "0   952065  20612439  ...       865454   6651194  27862596  3051217  624594   \n",
       "1   897936  18804592  ...       814195   6346298  25146100  2763888  625741   \n",
       "\n",
       "  virginia washington west_virginia wisconsin wyoming  \n",
       "0  8411808    7288000       1831102   5778708  585501  \n",
       "1  8001041    6724545       1853011   5687289  563767  \n",
       "\n",
       "[2 rows x 51 columns]"
      ]
     },
     "execution_count": 32,
     "metadata": {},
     "output_type": "execute_result"
    }
   ],
   "source": [
    "#show me the data after done changes\n",
    "df_census"
   ]
  },
  {
   "cell_type": "code",
   "execution_count": 35,
   "metadata": {},
   "outputs": [
    {
     "data": {
      "text/html": [
       "<div>\n",
       "<style scoped>\n",
       "    .dataframe tbody tr th:only-of-type {\n",
       "        vertical-align: middle;\n",
       "    }\n",
       "\n",
       "    .dataframe tbody tr th {\n",
       "        vertical-align: top;\n",
       "    }\n",
       "\n",
       "    .dataframe thead th {\n",
       "        text-align: right;\n",
       "    }\n",
       "</style>\n",
       "<table border=\"1\" class=\"dataframe\">\n",
       "  <thead>\n",
       "    <tr style=\"text-align: right;\">\n",
       "      <th></th>\n",
       "      <th>fact</th>\n",
       "      <th>alabama</th>\n",
       "      <th>alaska</th>\n",
       "      <th>arizona</th>\n",
       "      <th>arkansas</th>\n",
       "      <th>california</th>\n",
       "      <th>colorado</th>\n",
       "      <th>connecticut</th>\n",
       "      <th>delaware</th>\n",
       "      <th>florida</th>\n",
       "      <th>...</th>\n",
       "      <th>south_dakota</th>\n",
       "      <th>tennessee</th>\n",
       "      <th>texas</th>\n",
       "      <th>utah</th>\n",
       "      <th>vermont</th>\n",
       "      <th>virginia</th>\n",
       "      <th>washington</th>\n",
       "      <th>west_virginia</th>\n",
       "      <th>wisconsin</th>\n",
       "      <th>wyoming</th>\n",
       "    </tr>\n",
       "  </thead>\n",
       "  <tbody>\n",
       "    <tr>\n",
       "      <th>0</th>\n",
       "      <td>2016</td>\n",
       "      <td>4863300</td>\n",
       "      <td>741894</td>\n",
       "      <td>6931071</td>\n",
       "      <td>2988248</td>\n",
       "      <td>39250017</td>\n",
       "      <td>5540545</td>\n",
       "      <td>3576452</td>\n",
       "      <td>952065</td>\n",
       "      <td>20612439</td>\n",
       "      <td>...</td>\n",
       "      <td>865454</td>\n",
       "      <td>6651194</td>\n",
       "      <td>27862596</td>\n",
       "      <td>3051217</td>\n",
       "      <td>624594</td>\n",
       "      <td>8411808</td>\n",
       "      <td>7288000</td>\n",
       "      <td>1831102</td>\n",
       "      <td>5778708</td>\n",
       "      <td>585501</td>\n",
       "    </tr>\n",
       "    <tr>\n",
       "      <th>1</th>\n",
       "      <td>2010</td>\n",
       "      <td>4780131</td>\n",
       "      <td>710249</td>\n",
       "      <td>6392301</td>\n",
       "      <td>2916025</td>\n",
       "      <td>37254522</td>\n",
       "      <td>5029324</td>\n",
       "      <td>3574114</td>\n",
       "      <td>897936</td>\n",
       "      <td>18804592</td>\n",
       "      <td>...</td>\n",
       "      <td>814195</td>\n",
       "      <td>6346298</td>\n",
       "      <td>25146100</td>\n",
       "      <td>2763888</td>\n",
       "      <td>625741</td>\n",
       "      <td>8001041</td>\n",
       "      <td>6724545</td>\n",
       "      <td>1853011</td>\n",
       "      <td>5687289</td>\n",
       "      <td>563767</td>\n",
       "    </tr>\n",
       "  </tbody>\n",
       "</table>\n",
       "<p>2 rows × 51 columns</p>\n",
       "</div>"
      ],
      "text/plain": [
       "     fact  alabama  alaska  arizona arkansas california colorado connecticut  \\\n",
       "0  2016    4863300  741894  6931071  2988248   39250017  5540545     3576452   \n",
       "1  2010    4780131  710249  6392301  2916025   37254522  5029324     3574114   \n",
       "\n",
       "  delaware   florida  ... south_dakota tennessee     texas     utah vermont  \\\n",
       "0   952065  20612439  ...       865454   6651194  27862596  3051217  624594   \n",
       "1   897936  18804592  ...       814195   6346298  25146100  2763888  625741   \n",
       "\n",
       "  virginia washington west_virginia wisconsin wyoming  \n",
       "0  8411808    7288000       1831102   5778708  585501  \n",
       "1  8001041    6724545       1853011   5687289  563767  \n",
       "\n",
       "[2 rows x 51 columns]"
      ]
     },
     "execution_count": 35,
     "metadata": {},
     "output_type": "execute_result"
    }
   ],
   "source": [
    "#show me the data \n",
    "df_census.head()"
   ]
  },
  {
   "cell_type": "code",
   "execution_count": 36,
   "metadata": {},
   "outputs": [
    {
     "data": {
      "text/html": [
       "<div>\n",
       "<style scoped>\n",
       "    .dataframe tbody tr th:only-of-type {\n",
       "        vertical-align: middle;\n",
       "    }\n",
       "\n",
       "    .dataframe tbody tr th {\n",
       "        vertical-align: top;\n",
       "    }\n",
       "\n",
       "    .dataframe thead th {\n",
       "        text-align: right;\n",
       "    }\n",
       "</style>\n",
       "<table border=\"1\" class=\"dataframe\">\n",
       "  <thead>\n",
       "    <tr style=\"text-align: right;\">\n",
       "      <th></th>\n",
       "      <th>fact</th>\n",
       "      <th>alabama</th>\n",
       "      <th>alaska</th>\n",
       "      <th>arizona</th>\n",
       "      <th>arkansas</th>\n",
       "      <th>california</th>\n",
       "      <th>colorado</th>\n",
       "      <th>connecticut</th>\n",
       "      <th>delaware</th>\n",
       "      <th>florida</th>\n",
       "      <th>...</th>\n",
       "      <th>south_dakota</th>\n",
       "      <th>tennessee</th>\n",
       "      <th>texas</th>\n",
       "      <th>utah</th>\n",
       "      <th>vermont</th>\n",
       "      <th>virginia</th>\n",
       "      <th>washington</th>\n",
       "      <th>west_virginia</th>\n",
       "      <th>wisconsin</th>\n",
       "      <th>wyoming</th>\n",
       "    </tr>\n",
       "  </thead>\n",
       "  <tbody>\n",
       "    <tr>\n",
       "      <th>count</th>\n",
       "      <td>2</td>\n",
       "      <td>2</td>\n",
       "      <td>2</td>\n",
       "      <td>2</td>\n",
       "      <td>2</td>\n",
       "      <td>2</td>\n",
       "      <td>2</td>\n",
       "      <td>2</td>\n",
       "      <td>2</td>\n",
       "      <td>2</td>\n",
       "      <td>...</td>\n",
       "      <td>2</td>\n",
       "      <td>2</td>\n",
       "      <td>2</td>\n",
       "      <td>2</td>\n",
       "      <td>2</td>\n",
       "      <td>2</td>\n",
       "      <td>2</td>\n",
       "      <td>2</td>\n",
       "      <td>2</td>\n",
       "      <td>2</td>\n",
       "    </tr>\n",
       "    <tr>\n",
       "      <th>unique</th>\n",
       "      <td>2</td>\n",
       "      <td>2</td>\n",
       "      <td>2</td>\n",
       "      <td>2</td>\n",
       "      <td>2</td>\n",
       "      <td>2</td>\n",
       "      <td>2</td>\n",
       "      <td>2</td>\n",
       "      <td>2</td>\n",
       "      <td>2</td>\n",
       "      <td>...</td>\n",
       "      <td>2</td>\n",
       "      <td>2</td>\n",
       "      <td>2</td>\n",
       "      <td>2</td>\n",
       "      <td>2</td>\n",
       "      <td>2</td>\n",
       "      <td>2</td>\n",
       "      <td>2</td>\n",
       "      <td>2</td>\n",
       "      <td>2</td>\n",
       "    </tr>\n",
       "    <tr>\n",
       "      <th>top</th>\n",
       "      <td>2016</td>\n",
       "      <td>4863300</td>\n",
       "      <td>741894</td>\n",
       "      <td>6392301</td>\n",
       "      <td>2988248</td>\n",
       "      <td>39250017</td>\n",
       "      <td>5029324</td>\n",
       "      <td>3576452</td>\n",
       "      <td>897936</td>\n",
       "      <td>18804592</td>\n",
       "      <td>...</td>\n",
       "      <td>865454</td>\n",
       "      <td>6346298</td>\n",
       "      <td>27862596</td>\n",
       "      <td>2763888</td>\n",
       "      <td>625741</td>\n",
       "      <td>8411808</td>\n",
       "      <td>7288000</td>\n",
       "      <td>1831102</td>\n",
       "      <td>5687289</td>\n",
       "      <td>585501</td>\n",
       "    </tr>\n",
       "    <tr>\n",
       "      <th>freq</th>\n",
       "      <td>1</td>\n",
       "      <td>1</td>\n",
       "      <td>1</td>\n",
       "      <td>1</td>\n",
       "      <td>1</td>\n",
       "      <td>1</td>\n",
       "      <td>1</td>\n",
       "      <td>1</td>\n",
       "      <td>1</td>\n",
       "      <td>1</td>\n",
       "      <td>...</td>\n",
       "      <td>1</td>\n",
       "      <td>1</td>\n",
       "      <td>1</td>\n",
       "      <td>1</td>\n",
       "      <td>1</td>\n",
       "      <td>1</td>\n",
       "      <td>1</td>\n",
       "      <td>1</td>\n",
       "      <td>1</td>\n",
       "      <td>1</td>\n",
       "    </tr>\n",
       "  </tbody>\n",
       "</table>\n",
       "<p>4 rows × 51 columns</p>\n",
       "</div>"
      ],
      "text/plain": [
       "          fact  alabama  alaska  arizona arkansas california colorado  \\\n",
       "count        2        2       2        2        2          2        2   \n",
       "unique       2        2       2        2        2          2        2   \n",
       "top     2016    4863300  741894  6392301  2988248   39250017  5029324   \n",
       "freq         1        1       1        1        1          1        1   \n",
       "\n",
       "       connecticut delaware   florida  ... south_dakota tennessee     texas  \\\n",
       "count            2        2         2  ...            2         2         2   \n",
       "unique           2        2         2  ...            2         2         2   \n",
       "top        3576452   897936  18804592  ...       865454   6346298  27862596   \n",
       "freq             1        1         1  ...            1         1         1   \n",
       "\n",
       "           utah vermont virginia washington west_virginia wisconsin wyoming  \n",
       "count         2       2        2          2             2         2       2  \n",
       "unique        2       2        2          2             2         2       2  \n",
       "top     2763888  625741  8411808    7288000       1831102   5687289  585501  \n",
       "freq          1       1        1          1             1         1       1  \n",
       "\n",
       "[4 rows x 51 columns]"
      ]
     },
     "execution_count": 36,
     "metadata": {},
     "output_type": "execute_result"
    }
   ],
   "source": [
    "#get the describe of my data\n",
    "df_census.describe()"
   ]
  },
  {
   "cell_type": "code",
   "execution_count": 37,
   "metadata": {},
   "outputs": [],
   "source": [
    "#convert all data as type float\n",
    "df_census=df_census.astype(float)"
   ]
  },
  {
   "cell_type": "code",
   "execution_count": 38,
   "metadata": {},
   "outputs": [],
   "source": [
    "#change column fact as type int \n",
    "df_census[\"fact\"]=df_census['fact'].astype(int)"
   ]
  },
  {
   "cell_type": "code",
   "execution_count": 39,
   "metadata": {},
   "outputs": [],
   "source": [
    "#drop all columns from 2 to 25\n",
    "df_gun.drop(df_gun.columns[2:26],axis=1,inplace=True)"
   ]
  },
  {
   "cell_type": "code",
   "execution_count": 40,
   "metadata": {},
   "outputs": [
    {
     "data": {
      "text/html": [
       "<div>\n",
       "<style scoped>\n",
       "    .dataframe tbody tr th:only-of-type {\n",
       "        vertical-align: middle;\n",
       "    }\n",
       "\n",
       "    .dataframe tbody tr th {\n",
       "        vertical-align: top;\n",
       "    }\n",
       "\n",
       "    .dataframe thead th {\n",
       "        text-align: right;\n",
       "    }\n",
       "</style>\n",
       "<table border=\"1\" class=\"dataframe\">\n",
       "  <thead>\n",
       "    <tr style=\"text-align: right;\">\n",
       "      <th></th>\n",
       "      <th>month</th>\n",
       "      <th>state</th>\n",
       "      <th>totals</th>\n",
       "    </tr>\n",
       "  </thead>\n",
       "  <tbody>\n",
       "    <tr>\n",
       "      <th>0</th>\n",
       "      <td>2017-09</td>\n",
       "      <td>Alabama</td>\n",
       "      <td>32019</td>\n",
       "    </tr>\n",
       "    <tr>\n",
       "      <th>1</th>\n",
       "      <td>2017-09</td>\n",
       "      <td>Alaska</td>\n",
       "      <td>6303</td>\n",
       "    </tr>\n",
       "    <tr>\n",
       "      <th>2</th>\n",
       "      <td>2017-09</td>\n",
       "      <td>Arizona</td>\n",
       "      <td>28394</td>\n",
       "    </tr>\n",
       "    <tr>\n",
       "      <th>3</th>\n",
       "      <td>2017-09</td>\n",
       "      <td>Arkansas</td>\n",
       "      <td>17747</td>\n",
       "    </tr>\n",
       "    <tr>\n",
       "      <th>4</th>\n",
       "      <td>2017-09</td>\n",
       "      <td>California</td>\n",
       "      <td>123506</td>\n",
       "    </tr>\n",
       "    <tr>\n",
       "      <th>...</th>\n",
       "      <td>...</td>\n",
       "      <td>...</td>\n",
       "      <td>...</td>\n",
       "    </tr>\n",
       "    <tr>\n",
       "      <th>12480</th>\n",
       "      <td>1998-11</td>\n",
       "      <td>Virginia</td>\n",
       "      <td>24</td>\n",
       "    </tr>\n",
       "    <tr>\n",
       "      <th>12481</th>\n",
       "      <td>1998-11</td>\n",
       "      <td>Washington</td>\n",
       "      <td>361</td>\n",
       "    </tr>\n",
       "    <tr>\n",
       "      <th>12482</th>\n",
       "      <td>1998-11</td>\n",
       "      <td>West Virginia</td>\n",
       "      <td>408</td>\n",
       "    </tr>\n",
       "    <tr>\n",
       "      <th>12483</th>\n",
       "      <td>1998-11</td>\n",
       "      <td>Wisconsin</td>\n",
       "      <td>241</td>\n",
       "    </tr>\n",
       "    <tr>\n",
       "      <th>12484</th>\n",
       "      <td>1998-11</td>\n",
       "      <td>Wyoming</td>\n",
       "      <td>107</td>\n",
       "    </tr>\n",
       "  </tbody>\n",
       "</table>\n",
       "<p>12485 rows × 3 columns</p>\n",
       "</div>"
      ],
      "text/plain": [
       "         month          state  totals\n",
       "0      2017-09        Alabama   32019\n",
       "1      2017-09         Alaska    6303\n",
       "2      2017-09        Arizona   28394\n",
       "3      2017-09       Arkansas   17747\n",
       "4      2017-09     California  123506\n",
       "...        ...            ...     ...\n",
       "12480  1998-11       Virginia      24\n",
       "12481  1998-11     Washington     361\n",
       "12482  1998-11  West Virginia     408\n",
       "12483  1998-11      Wisconsin     241\n",
       "12484  1998-11        Wyoming     107\n",
       "\n",
       "[12485 rows x 3 columns]"
      ]
     },
     "execution_count": 40,
     "metadata": {},
     "output_type": "execute_result"
    }
   ],
   "source": [
    "#show me all data gun\n",
    "df_gun"
   ]
  },
  {
   "cell_type": "code",
   "execution_count": 41,
   "metadata": {},
   "outputs": [
    {
     "name": "stdout",
     "output_type": "stream",
     "text": [
      "<class 'pandas.core.frame.DataFrame'>\n",
      "Int64Index: 2 entries, 0 to 1\n",
      "Data columns (total 51 columns):\n",
      " #   Column          Non-Null Count  Dtype  \n",
      "---  ------          --------------  -----  \n",
      " 0   fact            2 non-null      int32  \n",
      " 1   alabama         2 non-null      float64\n",
      " 2   alaska          2 non-null      float64\n",
      " 3   arizona         2 non-null      float64\n",
      " 4   arkansas        2 non-null      float64\n",
      " 5   california      2 non-null      float64\n",
      " 6   colorado        2 non-null      float64\n",
      " 7   connecticut     2 non-null      float64\n",
      " 8   delaware        2 non-null      float64\n",
      " 9   florida         2 non-null      float64\n",
      " 10  georgia         2 non-null      float64\n",
      " 11  hawaii          2 non-null      float64\n",
      " 12  idaho           2 non-null      float64\n",
      " 13  illinois        2 non-null      float64\n",
      " 14  indiana         2 non-null      float64\n",
      " 15  iowa            2 non-null      float64\n",
      " 16  kansas          2 non-null      float64\n",
      " 17  kentucky        2 non-null      float64\n",
      " 18  louisiana       2 non-null      float64\n",
      " 19  maine           2 non-null      float64\n",
      " 20  maryland        2 non-null      float64\n",
      " 21  massachusetts   2 non-null      float64\n",
      " 22  michigan        2 non-null      float64\n",
      " 23  minnesota       2 non-null      float64\n",
      " 24  mississippi     2 non-null      float64\n",
      " 25  missouri        2 non-null      float64\n",
      " 26  montana         2 non-null      float64\n",
      " 27  nebraska        2 non-null      float64\n",
      " 28  nevada          2 non-null      float64\n",
      " 29  new_hampshire   2 non-null      float64\n",
      " 30  new_jersey      2 non-null      float64\n",
      " 31  new_mexico      2 non-null      float64\n",
      " 32  new_york        2 non-null      float64\n",
      " 33  north_carolina  2 non-null      float64\n",
      " 34  north_dakota    2 non-null      float64\n",
      " 35  ohio            2 non-null      float64\n",
      " 36  oklahoma        2 non-null      float64\n",
      " 37  oregon          2 non-null      float64\n",
      " 38  pennsylvania    2 non-null      float64\n",
      " 39  rhode_island    2 non-null      float64\n",
      " 40  south_carolina  2 non-null      float64\n",
      " 41  south_dakota    2 non-null      float64\n",
      " 42  tennessee       2 non-null      float64\n",
      " 43  texas           2 non-null      float64\n",
      " 44  utah            2 non-null      float64\n",
      " 45  vermont         2 non-null      float64\n",
      " 46  virginia        2 non-null      float64\n",
      " 47  washington      2 non-null      float64\n",
      " 48  west_virginia   2 non-null      float64\n",
      " 49  wisconsin       2 non-null      float64\n",
      " 50  wyoming         2 non-null      float64\n",
      "dtypes: float64(50), int32(1)\n",
      "memory usage: 824.0 bytes\n"
     ]
    }
   ],
   "source": [
    "#to check all data and datatypes\n",
    "df_census.info()"
   ]
  },
  {
   "cell_type": "code",
   "execution_count": 42,
   "metadata": {},
   "outputs": [],
   "source": [
    "#ecxtract year from month column and convert it as type int\n",
    "df_gun['year']=df_gun[\"month\"].apply(lambda x:x.split(\"-\")[0]).astype(int)"
   ]
  },
  {
   "cell_type": "code",
   "execution_count": 43,
   "metadata": {},
   "outputs": [],
   "source": [
    "#update month to achieve only month values a type int \n",
    "df_gun['month']=df_gun[\"month\"].apply(lambda x:x.split(\"-\")[1]).astype(int)"
   ]
  },
  {
   "cell_type": "code",
   "execution_count": 44,
   "metadata": {},
   "outputs": [
    {
     "name": "stdout",
     "output_type": "stream",
     "text": [
      "<class 'pandas.core.frame.DataFrame'>\n",
      "Int64Index: 2 entries, 0 to 1\n",
      "Data columns (total 51 columns):\n",
      " #   Column          Non-Null Count  Dtype  \n",
      "---  ------          --------------  -----  \n",
      " 0   fact            2 non-null      int32  \n",
      " 1   alabama         2 non-null      float64\n",
      " 2   alaska          2 non-null      float64\n",
      " 3   arizona         2 non-null      float64\n",
      " 4   arkansas        2 non-null      float64\n",
      " 5   california      2 non-null      float64\n",
      " 6   colorado        2 non-null      float64\n",
      " 7   connecticut     2 non-null      float64\n",
      " 8   delaware        2 non-null      float64\n",
      " 9   florida         2 non-null      float64\n",
      " 10  georgia         2 non-null      float64\n",
      " 11  hawaii          2 non-null      float64\n",
      " 12  idaho           2 non-null      float64\n",
      " 13  illinois        2 non-null      float64\n",
      " 14  indiana         2 non-null      float64\n",
      " 15  iowa            2 non-null      float64\n",
      " 16  kansas          2 non-null      float64\n",
      " 17  kentucky        2 non-null      float64\n",
      " 18  louisiana       2 non-null      float64\n",
      " 19  maine           2 non-null      float64\n",
      " 20  maryland        2 non-null      float64\n",
      " 21  massachusetts   2 non-null      float64\n",
      " 22  michigan        2 non-null      float64\n",
      " 23  minnesota       2 non-null      float64\n",
      " 24  mississippi     2 non-null      float64\n",
      " 25  missouri        2 non-null      float64\n",
      " 26  montana         2 non-null      float64\n",
      " 27  nebraska        2 non-null      float64\n",
      " 28  nevada          2 non-null      float64\n",
      " 29  new_hampshire   2 non-null      float64\n",
      " 30  new_jersey      2 non-null      float64\n",
      " 31  new_mexico      2 non-null      float64\n",
      " 32  new_york        2 non-null      float64\n",
      " 33  north_carolina  2 non-null      float64\n",
      " 34  north_dakota    2 non-null      float64\n",
      " 35  ohio            2 non-null      float64\n",
      " 36  oklahoma        2 non-null      float64\n",
      " 37  oregon          2 non-null      float64\n",
      " 38  pennsylvania    2 non-null      float64\n",
      " 39  rhode_island    2 non-null      float64\n",
      " 40  south_carolina  2 non-null      float64\n",
      " 41  south_dakota    2 non-null      float64\n",
      " 42  tennessee       2 non-null      float64\n",
      " 43  texas           2 non-null      float64\n",
      " 44  utah            2 non-null      float64\n",
      " 45  vermont         2 non-null      float64\n",
      " 46  virginia        2 non-null      float64\n",
      " 47  washington      2 non-null      float64\n",
      " 48  west_virginia   2 non-null      float64\n",
      " 49  wisconsin       2 non-null      float64\n",
      " 50  wyoming         2 non-null      float64\n",
      "dtypes: float64(50), int32(1)\n",
      "memory usage: 824.0 bytes\n"
     ]
    }
   ],
   "source": [
    "#check census all columns an datatypes \n",
    "df_census.info()"
   ]
  },
  {
   "cell_type": "code",
   "execution_count": 45,
   "metadata": {},
   "outputs": [
    {
     "data": {
      "text/html": [
       "<div>\n",
       "<style scoped>\n",
       "    .dataframe tbody tr th:only-of-type {\n",
       "        vertical-align: middle;\n",
       "    }\n",
       "\n",
       "    .dataframe tbody tr th {\n",
       "        vertical-align: top;\n",
       "    }\n",
       "\n",
       "    .dataframe thead th {\n",
       "        text-align: right;\n",
       "    }\n",
       "</style>\n",
       "<table border=\"1\" class=\"dataframe\">\n",
       "  <thead>\n",
       "    <tr style=\"text-align: right;\">\n",
       "      <th></th>\n",
       "      <th>month</th>\n",
       "      <th>state</th>\n",
       "      <th>totals</th>\n",
       "      <th>year</th>\n",
       "    </tr>\n",
       "  </thead>\n",
       "  <tbody>\n",
       "    <tr>\n",
       "      <th>0</th>\n",
       "      <td>9</td>\n",
       "      <td>Alabama</td>\n",
       "      <td>32019</td>\n",
       "      <td>2017</td>\n",
       "    </tr>\n",
       "    <tr>\n",
       "      <th>1</th>\n",
       "      <td>9</td>\n",
       "      <td>Alaska</td>\n",
       "      <td>6303</td>\n",
       "      <td>2017</td>\n",
       "    </tr>\n",
       "    <tr>\n",
       "      <th>2</th>\n",
       "      <td>9</td>\n",
       "      <td>Arizona</td>\n",
       "      <td>28394</td>\n",
       "      <td>2017</td>\n",
       "    </tr>\n",
       "    <tr>\n",
       "      <th>3</th>\n",
       "      <td>9</td>\n",
       "      <td>Arkansas</td>\n",
       "      <td>17747</td>\n",
       "      <td>2017</td>\n",
       "    </tr>\n",
       "    <tr>\n",
       "      <th>4</th>\n",
       "      <td>9</td>\n",
       "      <td>California</td>\n",
       "      <td>123506</td>\n",
       "      <td>2017</td>\n",
       "    </tr>\n",
       "    <tr>\n",
       "      <th>...</th>\n",
       "      <td>...</td>\n",
       "      <td>...</td>\n",
       "      <td>...</td>\n",
       "      <td>...</td>\n",
       "    </tr>\n",
       "    <tr>\n",
       "      <th>12480</th>\n",
       "      <td>11</td>\n",
       "      <td>Virginia</td>\n",
       "      <td>24</td>\n",
       "      <td>1998</td>\n",
       "    </tr>\n",
       "    <tr>\n",
       "      <th>12481</th>\n",
       "      <td>11</td>\n",
       "      <td>Washington</td>\n",
       "      <td>361</td>\n",
       "      <td>1998</td>\n",
       "    </tr>\n",
       "    <tr>\n",
       "      <th>12482</th>\n",
       "      <td>11</td>\n",
       "      <td>West Virginia</td>\n",
       "      <td>408</td>\n",
       "      <td>1998</td>\n",
       "    </tr>\n",
       "    <tr>\n",
       "      <th>12483</th>\n",
       "      <td>11</td>\n",
       "      <td>Wisconsin</td>\n",
       "      <td>241</td>\n",
       "      <td>1998</td>\n",
       "    </tr>\n",
       "    <tr>\n",
       "      <th>12484</th>\n",
       "      <td>11</td>\n",
       "      <td>Wyoming</td>\n",
       "      <td>107</td>\n",
       "      <td>1998</td>\n",
       "    </tr>\n",
       "  </tbody>\n",
       "</table>\n",
       "<p>12485 rows × 4 columns</p>\n",
       "</div>"
      ],
      "text/plain": [
       "       month          state  totals  year\n",
       "0          9        Alabama   32019  2017\n",
       "1          9         Alaska    6303  2017\n",
       "2          9        Arizona   28394  2017\n",
       "3          9       Arkansas   17747  2017\n",
       "4          9     California  123506  2017\n",
       "...      ...            ...     ...   ...\n",
       "12480     11       Virginia      24  1998\n",
       "12481     11     Washington     361  1998\n",
       "12482     11  West Virginia     408  1998\n",
       "12483     11      Wisconsin     241  1998\n",
       "12484     11        Wyoming     107  1998\n",
       "\n",
       "[12485 rows x 4 columns]"
      ]
     },
     "execution_count": 45,
     "metadata": {},
     "output_type": "execute_result"
    }
   ],
   "source": [
    "#show me the data after changes\n",
    "df_gun"
   ]
  },
  {
   "cell_type": "code",
   "execution_count": 46,
   "metadata": {},
   "outputs": [],
   "source": [
    "#rename columns in data set census and add (\"_census\")\n",
    "df_census.rename(columns=lambda x:x[:10]+\"_census\" , inplace =True)\n"
   ]
  },
  {
   "cell_type": "code",
   "execution_count": 47,
   "metadata": {},
   "outputs": [],
   "source": [
    "#rename columns in data set gun and add (\"_gun\")\n",
    "df_gun.rename(columns=lambda x:x[:10]+\"_gun\" , inplace=True)"
   ]
  },
  {
   "cell_type": "code",
   "execution_count": 48,
   "metadata": {},
   "outputs": [
    {
     "data": {
      "text/html": [
       "<div>\n",
       "<style scoped>\n",
       "    .dataframe tbody tr th:only-of-type {\n",
       "        vertical-align: middle;\n",
       "    }\n",
       "\n",
       "    .dataframe tbody tr th {\n",
       "        vertical-align: top;\n",
       "    }\n",
       "\n",
       "    .dataframe thead th {\n",
       "        text-align: right;\n",
       "    }\n",
       "</style>\n",
       "<table border=\"1\" class=\"dataframe\">\n",
       "  <thead>\n",
       "    <tr style=\"text-align: right;\">\n",
       "      <th></th>\n",
       "      <th>fact_census</th>\n",
       "      <th>alabama_census</th>\n",
       "      <th>alaska_census</th>\n",
       "      <th>arizona_census</th>\n",
       "      <th>arkansas_census</th>\n",
       "      <th>california_census</th>\n",
       "      <th>colorado_census</th>\n",
       "      <th>connecticu_census</th>\n",
       "      <th>delaware_census</th>\n",
       "      <th>florida_census</th>\n",
       "      <th>...</th>\n",
       "      <th>south_dako_census</th>\n",
       "      <th>tennessee_census</th>\n",
       "      <th>texas_census</th>\n",
       "      <th>utah_census</th>\n",
       "      <th>vermont_census</th>\n",
       "      <th>virginia_census</th>\n",
       "      <th>washington_census</th>\n",
       "      <th>west_virgi_census</th>\n",
       "      <th>wisconsin_census</th>\n",
       "      <th>wyoming_census</th>\n",
       "    </tr>\n",
       "  </thead>\n",
       "  <tbody>\n",
       "    <tr>\n",
       "      <th>0</th>\n",
       "      <td>2016</td>\n",
       "      <td>4863300.0</td>\n",
       "      <td>741894.0</td>\n",
       "      <td>6931071.0</td>\n",
       "      <td>2988248.0</td>\n",
       "      <td>39250017.0</td>\n",
       "      <td>5540545.0</td>\n",
       "      <td>3576452.0</td>\n",
       "      <td>952065.0</td>\n",
       "      <td>20612439.0</td>\n",
       "      <td>...</td>\n",
       "      <td>865454.0</td>\n",
       "      <td>6651194.0</td>\n",
       "      <td>27862596.0</td>\n",
       "      <td>3051217.0</td>\n",
       "      <td>624594.0</td>\n",
       "      <td>8411808.0</td>\n",
       "      <td>7288000.0</td>\n",
       "      <td>1831102.0</td>\n",
       "      <td>5778708.0</td>\n",
       "      <td>585501.0</td>\n",
       "    </tr>\n",
       "    <tr>\n",
       "      <th>1</th>\n",
       "      <td>2010</td>\n",
       "      <td>4780131.0</td>\n",
       "      <td>710249.0</td>\n",
       "      <td>6392301.0</td>\n",
       "      <td>2916025.0</td>\n",
       "      <td>37254522.0</td>\n",
       "      <td>5029324.0</td>\n",
       "      <td>3574114.0</td>\n",
       "      <td>897936.0</td>\n",
       "      <td>18804592.0</td>\n",
       "      <td>...</td>\n",
       "      <td>814195.0</td>\n",
       "      <td>6346298.0</td>\n",
       "      <td>25146100.0</td>\n",
       "      <td>2763888.0</td>\n",
       "      <td>625741.0</td>\n",
       "      <td>8001041.0</td>\n",
       "      <td>6724545.0</td>\n",
       "      <td>1853011.0</td>\n",
       "      <td>5687289.0</td>\n",
       "      <td>563767.0</td>\n",
       "    </tr>\n",
       "  </tbody>\n",
       "</table>\n",
       "<p>2 rows × 51 columns</p>\n",
       "</div>"
      ],
      "text/plain": [
       "   fact_census  alabama_census  alaska_census  arizona_census  \\\n",
       "0         2016       4863300.0       741894.0       6931071.0   \n",
       "1         2010       4780131.0       710249.0       6392301.0   \n",
       "\n",
       "   arkansas_census  california_census  colorado_census  connecticu_census  \\\n",
       "0        2988248.0         39250017.0        5540545.0          3576452.0   \n",
       "1        2916025.0         37254522.0        5029324.0          3574114.0   \n",
       "\n",
       "   delaware_census  florida_census  ...  south_dako_census  tennessee_census  \\\n",
       "0         952065.0      20612439.0  ...           865454.0         6651194.0   \n",
       "1         897936.0      18804592.0  ...           814195.0         6346298.0   \n",
       "\n",
       "   texas_census  utah_census  vermont_census  virginia_census  \\\n",
       "0    27862596.0    3051217.0        624594.0        8411808.0   \n",
       "1    25146100.0    2763888.0        625741.0        8001041.0   \n",
       "\n",
       "   washington_census  west_virgi_census  wisconsin_census  wyoming_census  \n",
       "0          7288000.0          1831102.0         5778708.0        585501.0  \n",
       "1          6724545.0          1853011.0         5687289.0        563767.0  \n",
       "\n",
       "[2 rows x 51 columns]"
      ]
     },
     "execution_count": 48,
     "metadata": {},
     "output_type": "execute_result"
    }
   ],
   "source": [
    "#show me the data \n",
    "df_census.head()"
   ]
  },
  {
   "cell_type": "code",
   "execution_count": 49,
   "metadata": {},
   "outputs": [
    {
     "name": "stdout",
     "output_type": "stream",
     "text": [
      "2008.833093064232\n",
      "2006.752643383531\n"
     ]
    }
   ],
   "source": [
    "#get the median and get the low year in purcahse gun and high year\n",
    "df_gun[\"totals_gun\"].median()\n",
    "df_lowg=df_gun.query(\"totals_gun < 12399\")[\"year_gun\"].mean()\n",
    "df_highg=df_gun.query(\"totals_gun >=12399\")[\"year_gun\"].mean()\n",
    "print(df_highg)\n",
    "print(df_lowg)\n",
    "\n"
   ]
  },
  {
   "cell_type": "code",
   "execution_count": 50,
   "metadata": {},
   "outputs": [
    {
     "data": {
      "text/html": [
       "<div>\n",
       "<style scoped>\n",
       "    .dataframe tbody tr th:only-of-type {\n",
       "        vertical-align: middle;\n",
       "    }\n",
       "\n",
       "    .dataframe tbody tr th {\n",
       "        vertical-align: top;\n",
       "    }\n",
       "\n",
       "    .dataframe thead th {\n",
       "        text-align: right;\n",
       "    }\n",
       "</style>\n",
       "<table border=\"1\" class=\"dataframe\">\n",
       "  <thead>\n",
       "    <tr style=\"text-align: right;\">\n",
       "      <th></th>\n",
       "      <th>month_gun</th>\n",
       "      <th>state_gun</th>\n",
       "      <th>totals_gun</th>\n",
       "      <th>year_gun</th>\n",
       "    </tr>\n",
       "  </thead>\n",
       "  <tbody>\n",
       "    <tr>\n",
       "      <th>0</th>\n",
       "      <td>9</td>\n",
       "      <td>Alabama</td>\n",
       "      <td>32019</td>\n",
       "      <td>2017</td>\n",
       "    </tr>\n",
       "    <tr>\n",
       "      <th>1</th>\n",
       "      <td>9</td>\n",
       "      <td>Alaska</td>\n",
       "      <td>6303</td>\n",
       "      <td>2017</td>\n",
       "    </tr>\n",
       "    <tr>\n",
       "      <th>2</th>\n",
       "      <td>9</td>\n",
       "      <td>Arizona</td>\n",
       "      <td>28394</td>\n",
       "      <td>2017</td>\n",
       "    </tr>\n",
       "    <tr>\n",
       "      <th>3</th>\n",
       "      <td>9</td>\n",
       "      <td>Arkansas</td>\n",
       "      <td>17747</td>\n",
       "      <td>2017</td>\n",
       "    </tr>\n",
       "    <tr>\n",
       "      <th>4</th>\n",
       "      <td>9</td>\n",
       "      <td>California</td>\n",
       "      <td>123506</td>\n",
       "      <td>2017</td>\n",
       "    </tr>\n",
       "    <tr>\n",
       "      <th>...</th>\n",
       "      <td>...</td>\n",
       "      <td>...</td>\n",
       "      <td>...</td>\n",
       "      <td>...</td>\n",
       "    </tr>\n",
       "    <tr>\n",
       "      <th>12480</th>\n",
       "      <td>11</td>\n",
       "      <td>Virginia</td>\n",
       "      <td>24</td>\n",
       "      <td>1998</td>\n",
       "    </tr>\n",
       "    <tr>\n",
       "      <th>12481</th>\n",
       "      <td>11</td>\n",
       "      <td>Washington</td>\n",
       "      <td>361</td>\n",
       "      <td>1998</td>\n",
       "    </tr>\n",
       "    <tr>\n",
       "      <th>12482</th>\n",
       "      <td>11</td>\n",
       "      <td>West Virginia</td>\n",
       "      <td>408</td>\n",
       "      <td>1998</td>\n",
       "    </tr>\n",
       "    <tr>\n",
       "      <th>12483</th>\n",
       "      <td>11</td>\n",
       "      <td>Wisconsin</td>\n",
       "      <td>241</td>\n",
       "      <td>1998</td>\n",
       "    </tr>\n",
       "    <tr>\n",
       "      <th>12484</th>\n",
       "      <td>11</td>\n",
       "      <td>Wyoming</td>\n",
       "      <td>107</td>\n",
       "      <td>1998</td>\n",
       "    </tr>\n",
       "  </tbody>\n",
       "</table>\n",
       "<p>12485 rows × 4 columns</p>\n",
       "</div>"
      ],
      "text/plain": [
       "       month_gun      state_gun  totals_gun  year_gun\n",
       "0              9        Alabama       32019      2017\n",
       "1              9         Alaska        6303      2017\n",
       "2              9        Arizona       28394      2017\n",
       "3              9       Arkansas       17747      2017\n",
       "4              9     California      123506      2017\n",
       "...          ...            ...         ...       ...\n",
       "12480         11       Virginia          24      1998\n",
       "12481         11     Washington         361      1998\n",
       "12482         11  West Virginia         408      1998\n",
       "12483         11      Wisconsin         241      1998\n",
       "12484         11        Wyoming         107      1998\n",
       "\n",
       "[12485 rows x 4 columns]"
      ]
     },
     "execution_count": 50,
     "metadata": {},
     "output_type": "execute_result"
    }
   ],
   "source": [
    "df_gun"
   ]
  },
  {
   "cell_type": "code",
   "execution_count": 51,
   "metadata": {},
   "outputs": [
    {
     "name": "stdout",
     "output_type": "stream",
     "text": [
      "6.348125600768984\n",
      "6.62101553740189\n"
     ]
    }
   ],
   "source": [
    "#get the median of gun , get low month and high month\n",
    "df_gun[\"totals_gun\"].median()\n",
    "df_lows=df_gun.query(\"totals_gun < 12399.0\")[\"month_gun\"].mean()\n",
    "df_highs=df_gun.query(\"totals_gun>=12399.0\")[\"month_gun\"].mean()\n",
    "print(df_lows)\n",
    "print(df_highs)\n"
   ]
  },
  {
   "cell_type": "markdown",
   "metadata": {},
   "source": [
    "# What census data is most associated with high gun per capita?"
   ]
  },
  {
   "cell_type": "code",
   "execution_count": 53,
   "metadata": {},
   "outputs": [
    {
     "data": {
      "text/plain": [
       "Text(0, 0.5, 'the number of census')"
      ]
     },
     "execution_count": 53,
     "metadata": {},
     "output_type": "execute_result"
    },
    {
     "data": {
      "image/png": "[encoded data removed]",
      "text/plain": [
       "<Figure size 1440x1440 with 1 Axes>"
      ]
     },
     "metadata": {
      "needs_background": "light"
     },
     "output_type": "display_data"
    }
   ],
   "source": [
    "df_census.groupby(\"fact_census\").mean().plot(kind=\"bar\", title=\"the census in 2010 vs 2016\" ,alpha=.7,figsize=(20,20))\n",
    "plt.xlabel(\"years census\")\n",
    "plt.ylabel(\"the number of census\" )\n"
   ]
  },
  {
   "cell_type": "markdown",
   "metadata": {},
   "source": [
    "describe when i got the city have most associated with high gun we see in the figure show that \"california\" has highst value in 2010 and 2016"
   ]
  },
  {
   "cell_type": "markdown",
   "metadata": {},
   "source": [
    "### Which states have had the highest growth in gun registrations?"
   ]
  },
  {
   "cell_type": "code",
   "execution_count": 54,
   "metadata": {},
   "outputs": [
    {
     "data": {
      "text/plain": [
       "<AxesSubplot:title={'center':' city with total purchase gun'}, xlabel='state_gun'>"
      ]
     },
     "execution_count": 54,
     "metadata": {},
     "output_type": "execute_result"
    },
    {
     "data": {
      "image/png": "[encoded data removed]",
      "text/plain": [
       "<Figure size 720x720 with 1 Axes>"
      ]
     },
     "metadata": {
      "needs_background": "light"
     },
     "output_type": "display_data"
    }
   ],
   "source": [
    "df_gun.groupby(\"state_gun\").mean()[\"totals_gun\"].plot(kind=\"bar\" , title= \" city with total purchase gun\" , figsize=(10,10))"
   ]
  },
  {
   "cell_type": "markdown",
   "metadata": {},
   "source": [
    "describe when i got the most city purchase gun i see the (kentucky) the highst city have purchase guns"
   ]
  },
  {
   "cell_type": "markdown",
   "metadata": {},
   "source": [
    "### which year have the highst gun ?"
   ]
  },
  {
   "cell_type": "code",
   "execution_count": 55,
   "metadata": {},
   "outputs": [
    {
     "data": {
      "text/plain": [
       "Text(0, 0.5, 'totals of registration')"
      ]
     },
     "execution_count": 55,
     "metadata": {},
     "output_type": "execute_result"
    },
    {
     "data": {
      "image/png": "[encoded data removed]",
      "text/plain": [
       "<Figure size 432x288 with 1 Axes>"
      ]
     },
     "metadata": {
      "needs_background": "light"
     },
     "output_type": "display_data"
    }
   ],
   "source": [
    "df_gun.groupby(\"year_gun\").mean()[\"totals_gun\"].plot(kind=\"bar\" , title=\"the highest year regetstration\")\n",
    "plt.ylabel(\"totals of registration\")"
   ]
  },
  {
   "cell_type": "markdown",
   "metadata": {},
   "source": [
    "describe we got from this show the highst year get purchase gun as total in 2016"
   ]
  },
  {
   "cell_type": "markdown",
   "metadata": {},
   "source": [
    "### which month in the year have the higst gun purchase"
   ]
  },
  {
   "cell_type": "code",
   "execution_count": 56,
   "metadata": {},
   "outputs": [
    {
     "data": {
      "text/plain": [
       "Text(0, 0.5, 'totals of registration')"
      ]
     },
     "execution_count": 56,
     "metadata": {},
     "output_type": "execute_result"
    },
    {
     "data": {
      "image/png": "[encoded data removed]",
      "text/plain": [
       "<Figure size 432x288 with 1 Axes>"
      ]
     },
     "metadata": {
      "needs_background": "light"
     },
     "output_type": "display_data"
    }
   ],
   "source": [
    "df_gun.groupby(\"month_gun\").mean()[\"totals_gun\"].plot(kind=\"bar\", title=\"the highst month regestration\")\n",
    "plt.ylabel(\"totals of registration\")"
   ]
  },
  {
   "cell_type": "markdown",
   "metadata": {},
   "source": [
    "describe we got in the last month the highst purchase gun"
   ]
  },
  {
   "cell_type": "code",
   "execution_count": 57,
   "metadata": {},
   "outputs": [
    {
     "data": {
      "text/plain": [
       "<AxesSubplot:xlabel='year_gun', ylabel='totals_gun'>"
      ]
     },
     "execution_count": 57,
     "metadata": {},
     "output_type": "execute_result"
    },
    {
     "data": {
      "image/png": "[encoded data removed]",
      "text/plain": [
       "<Figure size 432x288 with 1 Axes>"
      ]
     },
     "metadata": {
      "needs_background": "light"
     },
     "output_type": "display_data"
    }
   ],
   "source": [
    "x=\"year_gun\"\n",
    "y=\"totals_gun\"\n",
    "df_gun.plot.scatter(x,y)"
   ]
  },
  {
   "cell_type": "code",
   "execution_count": 58,
   "metadata": {},
   "outputs": [
    {
     "data": {
      "text/plain": [
       "<AxesSubplot:xlabel='month_gun', ylabel='totals_gun'>"
      ]
     },
     "execution_count": 58,
     "metadata": {},
     "output_type": "execute_result"
    },
    {
     "data": {
      "image/png": "[encoded data removed]",
      "text/plain": [
       "<Figure size 432x288 with 1 Axes>"
      ]
     },
     "metadata": {
      "needs_background": "light"
     },
     "output_type": "display_data"
    }
   ],
   "source": [
    "x=\"month_gun\"\n",
    "y=\"totals_gun\"\n",
    "df_gun.plot.scatter(x,y)"
   ]
  },
  {
   "cell_type": "code",
   "execution_count": 59,
   "metadata": {},
   "outputs": [
    {
     "data": {
      "text/plain": [
       "Text(0, 0.5, 'years')"
      ]
     },
     "execution_count": 59,
     "metadata": {},
     "output_type": "execute_result"
    },
    {
     "data": {
      "image/png": "[encoded data removed]",
      "text/plain": [
       "<Figure size 432x288 with 1 Axes>"
      ]
     },
     "metadata": {
      "needs_background": "light"
     },
     "output_type": "display_data"
    }
   ],
   "source": [
    "locations=[1,2]\n",
    "labels=[\"low\", \"high\"]\n",
    "plt.bar(locations ,[df_lowg,df_highg] , tick_label=labels)\n",
    "plt.title(\"the low and high gun as a year\")\n",
    "plt.xlabel(\"total gun lower than median and greter than\")\n",
    "plt.ylabel(\"years\")"
   ]
  },
  {
   "cell_type": "code",
   "execution_count": 60,
   "metadata": {},
   "outputs": [
    {
     "data": {
      "text/plain": [
       "array([[<AxesSubplot:title={'center':'month_gun'}>,\n",
       "        <AxesSubplot:title={'center':'totals_gun'}>],\n",
       "       [<AxesSubplot:title={'center':'year_gun'}>, <AxesSubplot:>]],\n",
       "      dtype=object)"
      ]
     },
     "execution_count": 60,
     "metadata": {},
     "output_type": "execute_result"
    },
    {
     "data": {
      "image/png": "[encoded data removed]",
      "text/plain": [
       "<Figure size 432x288 with 4 Axes>"
      ]
     },
     "metadata": {
      "needs_background": "light"
     },
     "output_type": "display_data"
    }
   ],
   "source": [
    "df_gun.hist()"
   ]
  },
  {
   "cell_type": "code",
   "execution_count": 62,
   "metadata": {},
   "outputs": [
    {
     "data": {
      "text/plain": [
       "Text(0, 0.5, 'months')"
      ]
     },
     "execution_count": 62,
     "metadata": {},
     "output_type": "execute_result"
    },
    {
     "data": {
      "image/png": "[encoded data removed]",
      "text/plain": [
       "<Figure size 432x288 with 1 Axes>"
      ]
     },
     "metadata": {
      "needs_background": "light"
     },
     "output_type": "display_data"
    }
   ],
   "source": [
    "plt.bar([\"low_month\",\"high_month\"] ,[df_lows,df_highs])\n",
    "plt.title(\"the precentage of low and high month pass the median\")\n",
    "plt.xlabel(\"the higher and lower guns\")\n",
    "plt.ylabel(\"months\")"
   ]
  },
  {
   "cell_type": "code",
   "execution_count": 72,
   "metadata": {},
   "outputs": [
    {
     "data": {
      "text/plain": [
       "4294967295"
      ]
     },
     "execution_count": 72,
     "metadata": {},
     "output_type": "execute_result"
    }
   ],
   "source": [
    "from subprocess import call\n",
    "call(['python', '-m', 'nbconvert', 'Investigate_a_Dataset.ipynb'])"
   ]
  },
  {
   "cell_type": "markdown",
   "metadata": {},
   "source": [
    "# Conclusion\n",
    "first we had proplem in data which data have a lot of null values and seconed when i try to megre two data i saw that in census columns represent state and in gun states in one column called state as index i got the hard way to drop this nan values an extract string names from column to get value to this column but in the end i achieve data to help to get a good insights in it\n",
    "- first i check and see the data if have any missing values \n",
    "- seconed i fix this problem by fill all cells have null values by mean\n",
    "- third drop column and index who have nan values i will not want in this dataset\n",
    "## explatory and insights \n",
    "- first we got the most the capita have people as a bar \n",
    "- seconed we got the highst capita use guns \n",
    "- third we got in monthes and year \n",
    "### Limitation\n",
    "the data have a lot of missing values while i can't drop missing values all , then i try another to fill gaps with mean values \n",
    "- missing values\n",
    "the most of columns in dataset  doesn't help me as real i drop this column to have the importrant data in a good way to show it as a good type of insights\n",
    "- insights"
   ]
  },
  {
   "cell_type": "markdown",
   "metadata": {},
   "source": [
    "# thanks a lot..."
   ]
  },
  {
   "cell_type": "markdown",
   "metadata": {},
   "source": [
    "## mohamed assem ibrahim"
   ]
  },
  {
   "cell_type": "code",
   "execution_count": null,
   "metadata": {},
   "outputs": [],
   "source": []
  }
 ],
 "metadata": {
  "kernelspec": {
   "display_name": "Python 3",
   "language": "python",
   "name": "python3"
  },
  "language_info": {
   "codemirror_mode": {
    "name": "ipython",
    "version": 3
   },
   "file_extension": ".py",
   "mimetype": "text/x-python",
   "name": "python",
   "nbconvert_exporter": "python",
   "pygments_lexer": "ipython3",
   "version": "3.8.5"
  }
 },
 "nbformat": 4,
 "nbformat_minor": 2
}
